{
 "cells": [
  {
   "cell_type": "code",
   "execution_count": 2,
   "metadata": {},
   "outputs": [
    {
     "name": "stdout",
     "output_type": "stream",
     "text": [
      "0 0 0 0 0 0 0 0 0 0\n"
     ]
    }
   ],
   "source": [
    "class Array(object):\n",
    "    ''' sizeOfArray: denotes the total size of the array to be initialized\n",
    "       arrayType: denotes the data type of the array(as all the elements of the array have same data type)\n",
    "       arrayItems: values at each position of array\n",
    "    '''\n",
    "    def __init__(self, sizeOfArray, arrayType = int):\n",
    "        self.sizeOfArray = len(list(map(arrayType, range(sizeOfArray))))\n",
    "        self.arrayItems =[arrayType(0)] * sizeOfArray    # initialize array with zeroes\n",
    "        \n",
    "    def __str__(self):\n",
    "            return ' '.join([str(i) for i in self.arrayItems])\n",
    "            \n",
    "    # function for search\n",
    "    def search(self, keyToSearch):\n",
    "        for i in range(self.sizeOfArray):\n",
    "            if (self.arrayItems[i] == keyToSearch):    # brute-forcing\n",
    "                return i     # index at which element/ key was found\n",
    "            \n",
    "        return -1          # if key not found, return -1\n",
    "    \n",
    "    # function for inserting an element\n",
    "    def insert(self, keyToInsert, position):\n",
    "        if(self.sizeOfArray > position):\n",
    "            for i in range(self.sizeOfArray - 2, position - 1, -1):\n",
    "                self.arrayItems[i + 1] = self.arrayItems[i]\n",
    "            self.arrayItems[position] = keyToInsert\n",
    "        else:\n",
    "            print('Array size is:', self.sizeOfArray)\n",
    "            \n",
    "    # function to delete an element\n",
    "    def delete(self, keyToDelete, position):\n",
    "        if(self.sizeOfArray > position):\n",
    "            for i in range(position, self.sizeOfArray - 1):\n",
    "                self.arrayItems[i] = self.arrayItems[i + 1]\n",
    "        else:\n",
    "            print('Array size is:', self.sizeOfArray)\n",
    "    \n",
    "a = Array(10, int)\n",
    "print(a)"
   ]
  },
  {
   "cell_type": "code",
   "execution_count": 4,
   "metadata": {},
   "outputs": [
    {
     "name": "stdout",
     "output_type": "stream",
     "text": [
      "0 0 0 0 0 0 0 0 0 0\n"
     ]
    }
   ],
   "source": [
    "class Array(object):\n",
    "    ''' sizeOfArray: denotes the total size of the array to be initialized\n",
    "       arrayType: denotes the data type of the array(as all the elements of the array have same data type)\n",
    "       arrayItems: values at each position of array\n",
    "    '''\n",
    "    def __init__(self, sizeOfArray, arrayType = int):\n",
    "        self.sizeOfArray = len(list(map(arrayType, range(sizeOfArray))))\n",
    "        self.arrayItems = [arrayType(0)] * sizeOfArray                   # initialize array with zeroes\n",
    "      \n",
    "    def __str__(self):\n",
    "        return ' '.join([str(i) for i in self.arrayItems])\n",
    "    # function for search\n",
    "    def search(self, keyToSearch):\n",
    "        for i in range(self.sizeOfArray):\n",
    "            if(self.arrayItems[i] == keyToSearch):\n",
    "                return i\n",
    "            \n",
    "        return -1\n",
    "    # function to insert an element\n",
    "    def insert(self, keyToInsert, position):\n",
    "        if(self.sizeOfArray > position):\n",
    "            for i in range(self.sizeOfArray - 2, position - 1, -1):\n",
    "                self.arrayItems[i + 1] = self.arrayItems[i]\n",
    "            self.arrayItems[position] = keyToInsert\n",
    "        else:\n",
    "            print('Array size is:', self.sizeOfArray)\n",
    "        \n",
    "   # function to delete an element\n",
    "    def delete(self, keyToDelete, position):\n",
    "        if(self.sizeOfArray > position):\n",
    "            for i in range(position, self.sizeOfArray - 1):\n",
    "                self.arrayItems[i] = self.arrayItems[i + 1]\n",
    "        else:\n",
    "            print('Array size is:', self.sizeOfArray)\n",
    "            \n",
    "a = Array(10, int)\n",
    "print(a)            \n",
    "        "
   ]
  },
  {
   "cell_type": "code",
   "execution_count": null,
   "metadata": {},
   "outputs": [],
   "source": []
  }
 ],
 "metadata": {
  "kernelspec": {
   "display_name": "Python 2",
   "language": "python",
   "name": "python2"
  },
  "language_info": {
   "codemirror_mode": {
    "name": "ipython",
    "version": 2
   },
   "file_extension": ".py",
   "mimetype": "text/x-python",
   "name": "python",
   "nbconvert_exporter": "python",
   "pygments_lexer": "ipython2",
   "version": "2.7.15"
  }
 },
 "nbformat": 4,
 "nbformat_minor": 2
}
